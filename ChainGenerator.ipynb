{
 "cells": [
  {
   "cell_type": "markdown",
   "metadata": {},
   "source": []
  },
  {
   "cell_type": "markdown",
   "metadata": {},
   "source": []
  },
  {
   "cell_type": "markdown",
   "metadata": {},
   "source": [
    "# Bloco Gerador das Cadeias de Markov\n",
    "\n",
    "Nesse $\\textit{notebook}$ serão gerados parâmestros com Método dos Mínimos Quadrados (para o modelo padrão $\\Lambda CDM$) e com o Teste de $\\Chi^2$ (para ambos os modelos) as cadeias que serão usadas para o trabalho estatístico dos intervalos de credibilidade no bloco de plotting."
   ]
  },
  {
   "cell_type": "markdown",
   "metadata": {},
   "source": [
    "- Bibliotecas\n",
    "\n",
    "OBSERVAÇÃO: Verifique a instalação da biblioteca $\\textit{nbimporter}$ para a importação das funções e variáveis necessárias de outros notebooks"
   ]
  },
  {
   "cell_type": "code",
   "execution_count": 1,
   "metadata": {},
   "outputs": [],
   "source": [
    "import numpy as np\n",
    "import pandas as pd\n",
    "import emcee\n",
    "import tqdm\n",
    "from scipy.optimize import minimize\n",
    "import import_ipynb #Biblioteca necessária para importação das variáveis e funções de outros notebooks"
   ]
  },
  {
   "cell_type": "markdown",
   "metadata": {},
   "source": [
    "- Funções"
   ]
  },
  {
   "cell_type": "code",
   "execution_count": null,
   "metadata": {},
   "outputs": [],
   "source": []
  }
 ],
 "metadata": {
  "kernelspec": {
   "display_name": "Python 3",
   "language": "python",
   "name": "python3"
  },
  "language_info": {
   "codemirror_mode": {
    "name": "ipython",
    "version": 3
   },
   "file_extension": ".py",
   "mimetype": "text/x-python",
   "name": "python",
   "nbconvert_exporter": "python",
   "pygments_lexer": "ipython3",
   "version": "3.12.2"
  }
 },
 "nbformat": 4,
 "nbformat_minor": 2
}
